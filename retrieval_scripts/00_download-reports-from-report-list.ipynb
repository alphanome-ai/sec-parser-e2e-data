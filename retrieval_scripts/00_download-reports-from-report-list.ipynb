{
 "cells": [
  {
   "cell_type": "code",
   "execution_count": 1,
   "metadata": {},
   "outputs": [],
   "source": [
    "import jupyter_black\n",
    "\n",
    "jupyter_black.load()"
   ]
  },
  {
   "cell_type": "code",
   "execution_count": 2,
   "metadata": {},
   "outputs": [],
   "source": [
    "from pathlib import Path\n",
    "import csv\n",
    "import time\n",
    "from collections import namedtuple\n",
    "from sec_edgar_downloader import Downloader as SecEdgarDownloader\n",
    "from sec_downloader import DownloadStorage, Downloader\n",
    "from dotenv import load_dotenv\n",
    "import os\n",
    "import glob\n",
    "import os\n",
    "import json\n",
    "import re\n",
    "from sec_api_io.secapio_data_retriever import SecapioDataRetriever\n",
    "from tqdm.notebook import tqdm\n",
    "\n",
    "load_dotenv()\n",
    "sec_dl = Downloader(\"Alphanome.AI\", \"info@alphanome.ai\")"
   ]
  },
  {
   "cell_type": "code",
   "execution_count": 3,
   "metadata": {},
   "outputs": [],
   "source": [
    "DOWNLOAD_PATH = Path(\"..\")\n",
    "FILING_TYPES = [\"10-Q\", \"10-K\"]"
   ]
  },
  {
   "cell_type": "code",
   "execution_count": 4,
   "metadata": {},
   "outputs": [],
   "source": [
    "Report = namedtuple(\"Report\", [\"comment\", \"query\"])"
   ]
  },
  {
   "cell_type": "code",
   "execution_count": 5,
   "metadata": {},
   "outputs": [],
   "source": [
    "def get_report_list(path_str: str):\n",
    "    company_list = []\n",
    "    with Path(path_str).open(\"r\") as f:\n",
    "        reader = csv.reader(f)\n",
    "        next(reader)  # Skip the header\n",
    "        for row in reader:\n",
    "            assert (\n",
    "                len(row) == 2\n",
    "            ), f\"Expected 2 columns, got {len(row)} instead, row: {row}\"\n",
    "            company_list.append(Report(*row))\n",
    "    return company_list"
   ]
  },
  {
   "cell_type": "code",
   "execution_count": 6,
   "metadata": {},
   "outputs": [],
   "source": [
    "report_list = get_report_list(\"00_report-list.csv\")"
   ]
  },
  {
   "cell_type": "code",
   "execution_count": 7,
   "metadata": {},
   "outputs": [],
   "source": [
    "def download_and_save(document_type, ticker) -> bool:\n",
    "    document_type = document_type.upper().strip()\n",
    "\n",
    "    query = None\n",
    "    accession_number = None\n",
    "    specified_type = None\n",
    "    if \"/\" in ticker:\n",
    "        query = ticker\n",
    "        parts = ticker.split(\"/\")\n",
    "        if len(parts) == 3:  # ticker/accession/type format\n",
    "            ticker, accession_number, specified_type = parts\n",
    "            # Skip if the specified type doesn't match requested type\n",
    "            if specified_type.upper().strip() != document_type:\n",
    "                return False\n",
    "        else:  # ticker/accession format\n",
    "            ticker, accession_number = parts\n",
    "            \n",
    "        ticker = ticker.strip()\n",
    "        accession_number = accession_number.strip()\n",
    "        assert re.match(\n",
    "            r\"\\d{10}-\\d{2}-\\d{6}\", accession_number\n",
    "        ), f\"Expected accession number to be in the format of XXXXXXXX-XX-XXXXXX, got {accession_number} instead\"\n",
    "    ticker = ticker.upper().strip()\n",
    "\n",
    "    if query is None:\n",
    "        save_dir = DOWNLOAD_PATH / document_type / ticker\n",
    "        if save_dir.exists():\n",
    "            return False\n",
    "\n",
    "        storage = DownloadStorage(filter_pattern=\"**/*.htm*\")\n",
    "        with storage as path:\n",
    "            dl = SecEdgarDownloader(\"Alphanome.AI\", \"info@alphanome.ai\", path)\n",
    "            dl.get(document_type, ticker, limit=1, download_details=True)\n",
    "\n",
    "        files = storage.get_file_contents()\n",
    "        assert (\n",
    "            len(files) == 1\n",
    "        ), f\"Expected 1 file, got {len(files)} instead. Ticker: {ticker}\"\n",
    "        path, content = files[0]\n",
    "\n",
    "        accession_number = path.parts[3]\n",
    "        save_path = save_dir / accession_number / \"primary-document.html\"\n",
    "        save_path.parent.mkdir(parents=True, exist_ok=True)\n",
    "        with save_path.open(\"w\") as f:\n",
    "            f.write(content)\n",
    "    else:\n",
    "        assert ticker and isinstance(\n",
    "            ticker, str\n",
    "        ), f\"Expected ticker to be a string, got {ticker} instead\"\n",
    "        assert accession_number and isinstance(\n",
    "            accession_number, str\n",
    "        ), f\"Expected accession_number to be a string, got {accession_number} instead\"\n",
    "        save_dir = DOWNLOAD_PATH / document_type / ticker / accession_number\n",
    "        if save_dir.exists():\n",
    "            return False\n",
    "        metadatas = sec_dl.get_filing_metadatas(query)\n",
    "        assert (\n",
    "            len(metadatas) == 1\n",
    "        ), f\"Expected 1 metadata, got {len(metadatas)} instead. Ticker: {ticker}, accession_number: {accession_number}\"\n",
    "        metadata = metadatas[0]\n",
    "        file_contents = sec_dl.download_filing(url=metadata.primary_doc_url)\n",
    "        save_path = save_dir / \"primary-document.html\"\n",
    "        save_path.parent.mkdir(parents=True, exist_ok=True)\n",
    "        with save_path.open(\"wb\") as f:\n",
    "            f.write(file_contents)\n",
    "\n",
    "    return True"
   ]
  },
  {
   "cell_type": "code",
   "execution_count": 8,
   "metadata": {},
   "outputs": [],
   "source": [
    "for filing_type in FILING_TYPES:\n",
    "    download_and_save(filing_type, \"MSFT\")"
   ]
  },
  {
   "cell_type": "code",
   "execution_count": 9,
   "metadata": {},
   "outputs": [
    {
     "name": "stdout",
     "output_type": "stream",
     "text": [
      "\n",
      "Downloading 10-Q filings...\n"
     ]
    },
    {
     "data": {
      "application/vnd.jupyter.widget-view+json": {
       "model_id": "920ca205e4644ae5b83be854f1f0f799",
       "version_major": 2,
       "version_minor": 0
      },
      "text/plain": [
       "  0%|          | 0/110 [00:00<?, ?it/s]"
      ]
     },
     "metadata": {},
     "output_type": "display_data"
    },
    {
     "name": "stdout",
     "output_type": "stream",
     "text": [
      "\n",
      "Downloading 10-K filings...\n"
     ]
    },
    {
     "data": {
      "application/vnd.jupyter.widget-view+json": {
       "model_id": "77a00fc47a4d42e2a6291b603e7c2f6c",
       "version_major": 2,
       "version_minor": 0
      },
      "text/plain": [
       "  0%|          | 0/110 [00:00<?, ?it/s]"
      ]
     },
     "metadata": {},
     "output_type": "display_data"
    }
   ],
   "source": [
    "for filing_type in FILING_TYPES:\n",
    "    print(f\"\\nDownloading {filing_type} filings...\")\n",
    "    for report in tqdm(report_list):\n",
    "        assert isinstance(report, Report)\n",
    "        try:\n",
    "            downloaded = download_and_save(filing_type, report.query)\n",
    "            if downloaded:\n",
    "                time.sleep(0.1)  # SEC EDGAR limits to 10 requests per second\n",
    "        except Exception as e:\n",
    "            print(f\"Error downloading {filing_type} for {report.query}: {str(e)}\")"
   ]
  },
  {
   "cell_type": "code",
   "execution_count": 10,
   "metadata": {},
   "outputs": [],
   "source": [
    "def download_from_secapio(document_type, accession_number):\n",
    "    retriever = SecapioDataRetriever()\n",
    "    metadata = retriever.retrieve_report_metadata(\n",
    "        document_type, accession_number=accession_number\n",
    "    )\n",
    "    url = metadata[\"linkToFilingDetails\"]\n",
    "    assert url.startswith(\"https://www.sec.gov/Archives/edgar/data/\")\n",
    "    return retriever.get_report_html(document_type, url)"
   ]
  },
  {
   "cell_type": "code",
   "execution_count": 11,
   "metadata": {},
   "outputs": [],
   "source": [
    "def get_section_text(section_ids, content):\n",
    "    sections = []\n",
    "    for i in range(len(section_ids)):\n",
    "        section_end = (\n",
    "            \"<top-level-section-start-marker\" if i < len(section_ids) - 1 else \"$\"\n",
    "        )\n",
    "        section_text = re.findall(\n",
    "            r'<top-level-section-start-marker id=\"'\n",
    "            + section_ids[i]\n",
    "            + '\".*?</top-level-section-start-marker>(.*?)'\n",
    "            + section_end,\n",
    "            content,\n",
    "            re.DOTALL,\n",
    "        )\n",
    "        section_text = section_text[0] if section_text else \"\"\n",
    "        sections.append(\n",
    "            {\n",
    "                \"identifier\": section_ids[i],\n",
    "                \"character_count\": len(section_text.strip()),\n",
    "            }\n",
    "        )\n",
    "    return sections"
   ]
  },
  {
   "cell_type": "code",
   "execution_count": 12,
   "metadata": {},
   "outputs": [],
   "source": [
    "def write_sections_to_file(sections, anchor_file):\n",
    "    expected_sections_path = anchor_file.parent / \"expected-top-level-sections.json\"\n",
    "    with expected_sections_path.open(\"w\") as json_file:\n",
    "        json.dump(sections, json_file, indent=4)"
   ]
  },
  {
   "cell_type": "code",
   "execution_count": 17,
   "metadata": {},
   "outputs": [
    {
     "name": "stdout",
     "output_type": "stream",
     "text": [
      "\n",
      "Processing 10-Q files with Secapio...\n"
     ]
    },
    {
     "data": {
      "application/vnd.jupyter.widget-view+json": {
       "model_id": "d3cf31d2706f4764bca55c33245846d4",
       "version_major": 2,
       "version_minor": 0
      },
      "text/plain": [
       "  0%|          | 0/75 [00:00<?, ?it/s]"
      ]
     },
     "metadata": {},
     "output_type": "display_data"
    },
    {
     "name": "stdout",
     "output_type": "stream",
     "text": [
      "\n",
      "Processing 10-K files with Secapio...\n"
     ]
    },
    {
     "data": {
      "application/vnd.jupyter.widget-view+json": {
       "model_id": "5a027cd451b94a84b1a17479f8b05324",
       "version_major": 2,
       "version_minor": 0
      },
      "text/plain": [
       "  0%|          | 0/74 [00:00<?, ?it/s]"
      ]
     },
     "metadata": {},
     "output_type": "display_data"
    },
    {
     "name": "stdout",
     "output_type": "stream",
     "text": [
      "Error downloading 10-K for 000165204423000094: no 10-K found for accessionNo=\"0001652044-23-000094\"\n",
      "Error downloading 10-K for 000119312518236766: no 10-K found for accessionNo=\"0001193125-18-236766\"\n",
      "Error downloading 10-K for 000132680119000037: no 10-K found for accessionNo=\"0001326801-19-000037\"\n"
     ]
    }
   ],
   "source": [
    "if \"SECAPIO_API_KEY\" in os.environ:\n",
    "    retriever = SecapioDataRetriever()\n",
    "\n",
    "    # Process each filing type\n",
    "    for filing_type in FILING_TYPES:\n",
    "        print(f\"\\nProcessing {filing_type} files with Secapio...\")\n",
    "        # Only search in the specific filing type directory\n",
    "        anchor_files = list(\n",
    "            (DOWNLOAD_PATH / filing_type).rglob(\"primary-document.html\")\n",
    "        )\n",
    "\n",
    "        for anchor_file in tqdm(anchor_files):\n",
    "            accession_number = anchor_file.parent.name.replace(\"-\", \"\")\n",
    "            secapio_file_path = anchor_file.parent / \"primary-document-secapio.html\"\n",
    "\n",
    "            if not secapio_file_path.exists():\n",
    "                try:\n",
    "                    content = download_from_secapio(filing_type, accession_number)\n",
    "                    with secapio_file_path.open(\"w\") as f:\n",
    "                        f.write(content)\n",
    "                except Exception as e:\n",
    "                    print(\n",
    "                        f\"Error downloading {filing_type} for {accession_number}: {str(e)}\"\n",
    "                    )\n",
    "                    continue\n",
    "\n",
    "            with secapio_file_path.open(\"r\") as f:\n",
    "                content = f.read()\n",
    "\n",
    "            section_ids = re.findall(\n",
    "                r'<top-level-section-start-marker id=\"(.*?)\"', content\n",
    "            )\n",
    "            sections = get_section_text(section_ids, content)\n",
    "            write_sections_to_file(sections, anchor_file)\n",
    "\n",
    "            # Respect rate limits\n",
    "            time.sleep(0.1)\n",
    "else:\n",
    "    print(\"3rd party data will not be downloaded due to missing key.\")\n",
    "    print(\"Please create a .env file with your SECAPIO_API_KEY to download the data.\")"
   ]
  },
  {
   "cell_type": "code",
   "execution_count": null,
   "metadata": {},
   "outputs": [],
   "source": []
  }
 ],
 "metadata": {
  "kernelspec": {
   "display_name": "Python 3",
   "language": "python",
   "name": "python3"
  },
  "language_info": {
   "codemirror_mode": {
    "name": "ipython",
    "version": 3
   },
   "file_extension": ".py",
   "mimetype": "text/x-python",
   "name": "python",
   "nbconvert_exporter": "python",
   "pygments_lexer": "ipython3",
   "version": "3.11.7"
  },
  "orig_nbformat": 4
 },
 "nbformat": 4,
 "nbformat_minor": 2
}
